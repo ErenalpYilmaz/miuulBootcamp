{
 "cells": [
  {
   "cell_type": "code",
   "execution_count": 1,
   "metadata": {},
   "outputs": [
    {
     "name": "stdout",
     "output_type": "stream",
     "text": [
      "Erenalp\n",
      "Erenalp\n",
      "\n",
      "a__b\n",
      "104\n",
      "11\n",
      "11\n"
     ]
    }
   ],
   "source": [
    "#Fonksiyonlar\n",
    "\n",
    "#Fonksiyon Okur Yazarligi\n",
    "\n",
    "print('Erenalp')\n",
    "\n",
    "dir(print)\n",
    "\n",
    "print('Erenalp',end='\\n\\n')\n",
    "\n",
    "print('a','b', sep='__')\n",
    "\n",
    "#help(print)\n",
    "\n",
    "\n",
    "#Fonksiyon Tanimlama\n",
    "\n",
    "\n",
    "def calculate(x):\n",
    "    print(x*2)\n",
    "\n",
    "\n",
    "calculate(52)\n",
    "\n",
    "# Iki argumanli/parametreli bir fonksiyon tanimlayalim.\n",
    "\n",
    "def summer(arg1,arg2):\n",
    "    print(arg1+arg2)\n",
    "\n",
    "\n",
    "summer(5,6)\n",
    "\n",
    "summer(arg2 = 6 , arg1 = 5)"
   ]
  },
  {
   "cell_type": "code",
   "execution_count": null,
   "metadata": {},
   "outputs": [],
   "source": []
  }
 ],
 "metadata": {
  "kernelspec": {
   "display_name": "Python 3",
   "language": "python",
   "name": "python3"
  },
  "language_info": {
   "codemirror_mode": {
    "name": "ipython",
    "version": 3
   },
   "file_extension": ".py",
   "mimetype": "text/x-python",
   "name": "python",
   "nbconvert_exporter": "python",
   "pygments_lexer": "ipython3",
   "version": "3.13.0"
  }
 },
 "nbformat": 4,
 "nbformat_minor": 2
}
